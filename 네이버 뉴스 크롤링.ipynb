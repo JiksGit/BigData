{
 "cells": [
  {
   "cell_type": "code",
   "execution_count": 39,
   "id": "c4fec80f",
   "metadata": {},
   "outputs": [
    {
     "name": "stdout",
     "output_type": "stream",
     "text": [
      "[2023-06-13 11:15:30.973151] Url Request Success\n",
      "[2023-06-13 11:15:31.088886] Url Request Success\n",
      "[2023-06-13 11:15:31.201338] Url Request Success\n",
      "[2023-06-13 11:15:31.405698] Url Request Success\n",
      "[2023-06-13 11:15:31.533827] Url Request Success\n",
      "[2023-06-13 11:15:31.681914] Url Request Success\n",
      "[2023-06-13 11:15:31.801962] Url Request Success\n",
      "[2023-06-13 11:15:32.050693] Url Request Success\n",
      "[2023-06-13 11:15:32.192041] Url Request Success\n",
      "[2023-06-13 11:15:32.391895] Url Request Success\n",
      "HTTP Error 400: Bad Request\n",
      "[2023-06-13 11:15:32.498268] Error for URL : https://openapi.naver.com/v1/search/news.json?query=%ED%94%8C%EB%9E%AB%ED%8F%BC&start=1001&display=100\n",
      "전체 검색 : 4765325 건\n",
      "플랫폼_naver_news.json SAVED\n"
     ]
    }
   ],
   "source": [
    "#네이버 뉴스 크롤링\n",
    "\n",
    "import os\n",
    "import sys\n",
    "import urllib.request\n",
    "import datetime\n",
    "import time\n",
    "import json\n",
    "import pandas as pd\n",
    "\n",
    "\n",
    "client_id = \"0KKFh6Cii69eEp1dWM73\"\n",
    "client_secret = \"GgCVRePonV\"\n",
    "\n",
    "\n",
    "#[CODE 1]\n",
    "def getRequestUrl(url):    \n",
    "    req = urllib.request.Request(url)\n",
    "    req.add_header(\"X-Naver-Client-Id\", client_id)\n",
    "    req.add_header(\"X-Naver-Client-Secret\", client_secret)\n",
    "    \n",
    "    try: \n",
    "        response = urllib.request.urlopen(req)\n",
    "        if response.getcode() == 200:\n",
    "            print (\"[%s] Url Request Success\" % datetime.datetime.now())\n",
    "            return response.read().decode('utf-8')\n",
    "    except Exception as e:\n",
    "        print(e)\n",
    "        print(\"[%s] Error for URL : %s\" % (datetime.datetime.now(), url))\n",
    "        return None\n",
    "\n",
    "#[CODE 2]\n",
    "def getNaverSearch(node, srcText, start, display):    \n",
    "    base = \"https://openapi.naver.com/v1/search\"\n",
    "    node = \"/%s.json\" % node\n",
    "    parameters = \"?query=%s&start=%s&display=%s\" % (urllib.parse.quote(srcText), start, display)\n",
    "    \n",
    "    url = base + node + parameters    \n",
    "    responseDecode = getRequestUrl(url)   #[CODE 1]\n",
    "    \n",
    "    if (responseDecode == None):\n",
    "        return None\n",
    "    else:\n",
    "        return json.loads(responseDecode)\n",
    "\n",
    "#[CODE 3]\n",
    "def getPostData(post, jsonResult, cnt):    \n",
    "    title = post['title']\n",
    "    description = post['description']\n",
    "    org_link = post['originallink']\n",
    "    link = post['link']\n",
    "    result = []\n",
    "\n",
    "    \n",
    "    pDate = datetime.datetime.strptime(post['pubDate'],  '%a, %d %b %Y %H:%M:%S +0900')\n",
    "    pDate = pDate.strftime('%Y-%m-%d %H:%M:%S')\n",
    "    \n",
    "    jsonResult.append({'cnt':cnt, 'title':title, 'description': description, \n",
    "'org_link':org_link,   'link': org_link,   'pDate':pDate})\n",
    "    result.append({cnt, title, description, org_link, pDate})\n",
    "\n",
    "    return\n",
    "\n",
    "#[CODE 0]\n",
    "def main():\n",
    "    node = 'news'   # 크롤링 할 대상\n",
    "    srcText = '플랫폼'\n",
    "    cnt = 0\n",
    "    result = []\n",
    "    jsonResult = []\n",
    "\n",
    "    jsonResponse= getNaverSearch(node, srcText, 1, 100)  #[CODE 2]\n",
    "    total = jsonResponse['total']\n",
    " \n",
    "    while ((jsonResponse != None) and (jsonResponse['display'] != 0)):         \n",
    "        for post in jsonResponse['items']:\n",
    "            getPostData(post, jsonResult, cnt)  #[CODE 3]\n",
    "        \n",
    "        start = jsonResponse['start'] + jsonResponse['display']\n",
    "        jsonResponse = getNaverSearch(node, srcText, start, 100)  #[CODE 2]\n",
    "       \n",
    "    print('전체 검색 : %d 건' %total)\n",
    "    \n",
    "    with open('%s_naver_%s.json' % (srcText, node), 'w', encoding='utf8') as outfile:\n",
    "        jsonFile = json.dumps(jsonResult,  indent=4, sort_keys=True,  ensure_ascii=False)\n",
    "                        \n",
    "        outfile.write(jsonFile)\n",
    "        \n",
    "    columns = [\"cnt\",\"제목\",\"요약\",\"org_link\",\"pDate\"]\n",
    "    result_df = pd.DataFrame(result, columns = columns)\n",
    "    result_df.to_csv('./양현직-201835692-1번.csv',\n",
    "                index=False, encoding='cp949')  \n",
    "    \n",
    "    print ('%s_naver_%s.json SAVED' % (srcText, node))\n",
    "    \n",
    "if __name__ == '__main__':\n",
    "    main()\n",
    "\n"
   ]
  },
  {
   "cell_type": "code",
   "execution_count": 29,
   "id": "f2065a76",
   "metadata": {},
   "outputs": [
    {
     "name": "stdout",
     "output_type": "stream",
     "text": [
      "Retrieving notices: ...working... done\n",
      "Collecting package metadata (current_repodata.json): done\n",
      "Solving environment: failed with initial frozen solve. Retrying with flexible solve.\n",
      "Collecting package metadata (repodata.json): done\n",
      "Solving environment: failed with initial frozen solve. Retrying with flexible solve.\n",
      "\n",
      "PackagesNotFoundError: The following packages are not available from current channels:\n",
      "\n",
      "  - jpype\n",
      "\n",
      "Current channels:\n",
      "\n",
      "  - https://conda.anaconda.org/conda-forge/osx-64\n",
      "  - https://conda.anaconda.org/conda-forge/noarch\n",
      "  - https://repo.anaconda.com/pkgs/main/osx-64\n",
      "  - https://repo.anaconda.com/pkgs/main/noarch\n",
      "  - https://repo.anaconda.com/pkgs/r/osx-64\n",
      "  - https://repo.anaconda.com/pkgs/r/noarch\n",
      "\n",
      "To search for alternate channels that may provide the conda package you're\n",
      "looking for, navigate to\n",
      "\n",
      "    https://anaconda.org\n",
      "\n",
      "and use the search bar at the top of the page.\n",
      "\n",
      "\n",
      "\n",
      "Note: you may need to restart the kernel to use updated packages.\n"
     ]
    }
   ],
   "source": [
    "conda install -c conda-forge jpype"
   ]
  },
  {
   "cell_type": "code",
   "execution_count": null,
   "id": "ec6723fe",
   "metadata": {},
   "outputs": [],
   "source": [
    "import pandas as pd\n",
    "import glob\n",
    "import re\n",
    "from functools import reduce\n",
    "\n",
    "from nltk.tokenize import word_tokenize\n",
    "from nltk.corpus import stopwords\n",
    "from nltk.stem import WordNetLemmatizer\n",
    "\n",
    "from collections import Counter\n",
    "\n",
    "import matplotlib.pyplot as plt\n",
    "from wordcloud import WordCloud, STOPWORDS"
   ]
  },
  {
   "cell_type": "code",
   "execution_count": null,
   "id": "4b0b1891",
   "metadata": {},
   "outputs": [],
   "source": [
    "import glob\n",
    "\n",
    "all_files=glob.glob('./양현직-201835692-1번.csv')\n",
    "all_files"
   ]
  },
  {
   "cell_type": "code",
   "execution_count": null,
   "id": "72865618",
   "metadata": {},
   "outputs": [],
   "source": [
    "all_title = all_files['제목']\n",
    "all_title"
   ]
  },
  {
   "cell_type": "code",
   "execution_count": null,
   "id": "9a74d6e0",
   "metadata": {},
   "outputs": [],
   "source": [
    "import re\n",
    "\n",
    "message = ''  # 누적할 메시지 변수 초기화\n",
    "\n",
    "for item in all_title:\n",
    "    message = message + re.sub(r'[^\\w]', ' ', str(item)) + ''\n",
    "\n",
    "print(message)  # 메시지 값 출력"
   ]
  },
  {
   "cell_type": "code",
   "execution_count": null,
   "id": "9353fead",
   "metadata": {},
   "outputs": [],
   "source": [
    "import json\n",
    "import re\n",
    "\n",
    "from konlpy.tag import Okt\n",
    "\n",
    "from collections import Counter\n",
    "\n",
    "import matplotlib\n",
    "import matplotlib.pyplot as plt\n",
    "from matplotlib import font_manager, rc\n",
    "from wordcloud import WordCloud"
   ]
  },
  {
   "cell_type": "code",
   "execution_count": null,
   "id": "cbcc097b",
   "metadata": {},
   "outputs": [],
   "source": [
    "nlp = Okt()\n",
    "message_N = nlp.nouns(message)\n",
    "message_N   #출력하여 내용 확인"
   ]
  },
  {
   "cell_type": "code",
   "execution_count": null,
   "id": "b33f83cf",
   "metadata": {},
   "outputs": [],
   "source": [
    "count = Counter(message_N)\n",
    "\n",
    "count   #출력하여 내용 확인"
   ]
  },
  {
   "cell_type": "code",
   "execution_count": null,
   "id": "6478ede3",
   "metadata": {},
   "outputs": [],
   "source": [
    "word_count = dict()\n",
    "\n",
    "for tag, counts in count.most_common(80):\n",
    "    if(len(str(tag))>1):\n",
    "        word_count[tag] = counts\n",
    "        print(\"%s : %d\" % (tag, counts))"
   ]
  },
  {
   "cell_type": "code",
   "execution_count": null,
   "id": "c04be293",
   "metadata": {},
   "outputs": [],
   "source": [
    "font_path = \"/System/Library/Fonts/AppleSDGothicNeo.ttc\"\n",
    "font_name = font_manager.FontProperties(fname = font_path).get_name()\n",
    "matplotlib.rc('font', family=font_name)"
   ]
  },
  {
   "cell_type": "code",
   "execution_count": null,
   "id": "c55f460b",
   "metadata": {},
   "outputs": [],
   "source": [
    "plt.figure(figsize=(12,5))\n",
    "plt.xlabel('키워드')\n",
    "plt.ylabel('빈도수')\n",
    "plt.grid(True)\n",
    "\n",
    "sorted_Keys = sorted(word_count, key=word_count.get, reverse=True)\n",
    "sorted_Values = sorted(word_count.values(), reverse=True)\n",
    "\n",
    "plt.bar(range(len(word_count)), sorted_Values, align='center')\n",
    "plt.xticks(range(len(word_count)), list(sorted_Keys), rotation='75')\n",
    "\n",
    "plt.show()"
   ]
  },
  {
   "cell_type": "code",
   "execution_count": null,
   "id": "51fa1d71",
   "metadata": {},
   "outputs": [],
   "source": [
    "wc = WordCloud(font_path, background_color='ivory', width=800, height=600)\n",
    "cloud=wc.generate_from_frequencies(word_count)\n",
    "\n",
    "plt.figure(figsize=(8,8))\n",
    "plt.imshow(cloud)\n",
    "plt.axis('off')\n",
    "plt.show()"
   ]
  }
 ],
 "metadata": {
  "kernelspec": {
   "display_name": "Python 3 (ipykernel)",
   "language": "python",
   "name": "python3"
  },
  "language_info": {
   "codemirror_mode": {
    "name": "ipython",
    "version": 3
   },
   "file_extension": ".py",
   "mimetype": "text/x-python",
   "name": "python",
   "nbconvert_exporter": "python",
   "pygments_lexer": "ipython3",
   "version": "3.9.13"
  }
 },
 "nbformat": 4,
 "nbformat_minor": 5
}
